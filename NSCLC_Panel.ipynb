{
 "cells": [
  {
   "cell_type": "code",
   "execution_count": 11,
   "metadata": {
    "scrolled": true
   },
   "outputs": [],
   "source": [
    "import matplotlib.widgets\n",
    "import pandas as pd\n",
    "import numpy as np\n",
    "import csv\n",
    "import seaborn as sns\n",
    "import matplotlib.pyplot as plt\n",
    "import requests\n",
    "import urllib.request\n",
    "from bs4 import BeautifulSoup\n",
    "import re\n",
    "import os\n",
    "import scipy.stats\n",
    "from IPython.display import display, clear_output\n",
    "import ipywidgets as widgets\n",
    "\n",
    "\n",
    "source = pd.read_csv(\"meta/protein_quant_current_normalized.csv\", low_memory=False)\n",
    "\n",
    "\n",
    "def get_the_file(gene):\n",
    "    \n",
    "    # downloads the RNAseq file from the Broad website\n",
    "\n",
    "    url = 'https://portals.broadinstitute.org/ccle/page?gene='+str(gene)\n",
    "    response = requests.get(url)\n",
    "    soup = BeautifulSoup(response.text, 'html.parser')\n",
    "    for link in soup.findAll('a', attrs={'href': re.compile(\"RNA\")}):\n",
    "        url2 = 'https://portals.broadinstitute.org' + link.get('href')\n",
    "    \n",
    "    myfile = requests.get(url2)\n",
    "    open(str(gene)+'.txt', 'wb').write(myfile.content)\n",
    "    \n",
    "\n",
    "def graphing(dataFrame, gene, parameter, colors):\n",
    "    plt.figure()\n",
    "    sns.set(rc={'figure.figsize':(10,10)})\n",
    "    # Plots the datapoints parameter vs. gene expression\n",
    "    a = sns.regplot(x=parameter, y=gene, data=dataFrame, color = colors)\n",
    "    a.set_title('Correlation between ' + gene + ' and ' + parameter)\n",
    "    display(a.figure)\n",
    "\n",
    "def pval(dataF, gene, corr, par):\n",
    "    if par == 'p':\n",
    "        x = dataF[corr]\n",
    "        y = dataF[gene]\n",
    "        return scipy.stats.pearsonr(x, y)[1]\n",
    "    elif par == 's':\n",
    "        x = dataF[corr]\n",
    "        y = dataF[gene]\n",
    "        return scipy.stats.spearmanr(x, y)[1]\n",
    "\n",
    "def NSCLC_expression(gene):\n",
    "    from scipy import stats\n",
    "    get_the_file(gene)\n",
    "    \n",
    "    #gene = str(file[:-4])\n",
    "    \n",
    "    # Extract NSCLC line names and put it in the list\n",
    "    \n",
    "    lines = open('meta/NSCLC_Panel.txt').read().splitlines()\n",
    "    NSCLC_Lines = []\n",
    "    for i in lines:\n",
    "        NSCLC_Lines.append(i)\n",
    "        \n",
    "    # Filters data by NSCLC line panel\n",
    "    \n",
    "    NSCLC_exp = {}\n",
    "    for d in csv.DictReader(open(gene +'.txt'), delimiter='\\t'):\n",
    "        for i in NSCLC_Lines:\n",
    "             NSCLC_exp[i] = d[i]\n",
    "   \n",
    "    #Remove _LUNG string from the name\n",
    "    \n",
    "    no_lung = {}\n",
    "    for x in NSCLC_exp.keys():\n",
    "        if x.endswith('NG') and NSCLC_exp[x] != '':\n",
    "            no_lung[x[:-5]] = float(NSCLC_exp[x])\n",
    "   \n",
    "    # Converts the dictionary to data frame\n",
    "    \n",
    "    df = pd.DataFrame(data=no_lung, index=[gene])\n",
    "    df = (df.T)\n",
    "    #print (df)\n",
    "    \n",
    "    # calculate the correlation between EC50 and gene expression\n",
    "    \n",
    "    ec50 = pd.read_csv('meta/NSCLC_EC50.txt', sep = '\\t', index_col=0)\n",
    "    df3 = pd.merge(df, ec50, left_index=True, right_index=True)\n",
    "    correlation = df3[gene].corr(df3[\"EC50\"], method ='pearson')\n",
    "    val = pval(df3, gene, \"EC50\", \"p\")\n",
    "   \n",
    "    \n",
    "    #adds correlation result to the dataframe\n",
    "    \n",
    "    row0 = pd.Series({gene:''},name='')\n",
    "    row1 = pd.Series({gene: correlation,},name='Correlation with EC50')\n",
    "    row2 = pd.Series({gene:val}, name=\"p-value Pearson\")\n",
    "    df = df.append(row0)\n",
    "    df = df.append(row1)\n",
    "    df = df.append(row2)\n",
    "    \n",
    "    #plot the relationship between gene expression and EC50\n",
    "    \n",
    "    \n",
    "    return display(df), graphing(df3, gene, \"EC50\", \"blue\")\n",
    "\n",
    "\n",
    "def NSCLC_Protein(gene):\n",
    "    lines = open('meta/NSCLC_Panelp.txt').read().splitlines()\n",
    "    NSCLC_Lines = []\n",
    "    for i in lines:\n",
    "        NSCLC_Lines.append(i)\n",
    "    \n",
    "    df = source\n",
    "    select_gene = df.loc[df['Gene_Symbol'] == gene]\n",
    "    select_NSCLC = select_gene[NSCLC_Lines]\n",
    "    #select_NSCLC = select_NSCLC.reset_index(drop=True)\n",
    "    select_NSCLC_transposed = select_NSCLC.T\n",
    "    select_NSCLC_transposed.columns = [str(gene)]\n",
    "    select_NSCLC_transposed = select_NSCLC_transposed.dropna()\n",
    "    #print(select_NSCLC_transposed)\n",
    "    \n",
    "    \n",
    "    ec50 = pd.read_csv('meta/NSCLC_EC50p.txt', sep = '\\t', index_col=0)\n",
    "    df_EC50_Gene = pd.merge(select_NSCLC_transposed, ec50, left_index=True, right_index=True)\n",
    "    df_EC50_Gene.dropna()\n",
    "    correlation = df_EC50_Gene[gene].corr(df_EC50_Gene[\"EC50\"], method ='pearson')\n",
    "    val = pval(df_EC50_Gene, gene, \"EC50\", \"p\")\n",
    "    \n",
    "    graphing(df_EC50_Gene, gene, \"EC50\", \"green\")\n",
    "    \n",
    "    row0 = pd.Series({gene:''},name='')\n",
    "    row1 = pd.Series({gene: correlation,},name='Correlation with EC50')\n",
    "    row2 = pd.Series({gene:val}, name=\"p-value Pearson\")\n",
    "    \n",
    "    df = select_NSCLC_transposed.append(row0)\n",
    "    df = df.append(row1)\n",
    "    df = df.append(row2)\n",
    "    \n",
    "    return display(df)"
   ]
  },
  {
   "cell_type": "code",
   "execution_count": 13,
   "metadata": {
    "scrolled": false
   },
   "outputs": [
    {
     "data": {
      "application/vnd.jupyter.widget-view+json": {
       "model_id": "a90e1a44b24e49d5a9c23651b058cd4d",
       "version_major": 2,
       "version_minor": 0
      },
      "text/plain": [
       "Output()"
      ]
     },
     "metadata": {},
     "output_type": "display_data"
    },
    {
     "data": {
      "application/vnd.jupyter.widget-view+json": {
       "model_id": "20ce1e3819004ae18033ed843a2d92f2",
       "version_major": 2,
       "version_minor": 0
      },
      "text/plain": [
       "Text(value='', description='Gene:', placeholder='Type a gene name')"
      ]
     },
     "metadata": {},
     "output_type": "display_data"
    },
    {
     "data": {
      "application/vnd.jupyter.widget-view+json": {
       "model_id": "d84c656565824c40889c0a7a9c1d13e9",
       "version_major": 2,
       "version_minor": 0
      },
      "text/plain": [
       "Button(button_style='success', description='Run', icon='check', style=ButtonStyle(), tooltip='Click me')"
      ]
     },
     "metadata": {},
     "output_type": "display_data"
    },
    {
     "data": {
      "image/png": "[encoded data removed]",
      "text/plain": [
       "<Figure size 720x720 with 1 Axes>"
      ]
     },
     "metadata": {},
     "output_type": "display_data"
    }
   ],
   "source": [
    "a = widgets.Text(\n",
    "    value='',\n",
    "    placeholder='Type a gene name',\n",
    "    description='Gene:',\n",
    "    disabled=False\n",
    ")\n",
    "\n",
    "\n",
    "run_button = widgets.Button(\n",
    "    description='Run',\n",
    "    disabled=False,\n",
    "    button_style='success', # 'success', 'info', 'warning', 'danger' or ''\n",
    "    tooltip='Click me',\n",
    "    icon='check' # (FontAwesome names without the `fa-` prefix)\n",
    ")\n",
    "\n",
    "out = widgets.Output()\n",
    "display(out)\n",
    "\n",
    "def on_run_button_clicked(b):\n",
    "    with out:\n",
    "        clear_output()\n",
    "        print(str(a.value).upper() + \" expression:\")\n",
    "        #s =  NSCLC_expression(str(a.value).upper())\n",
    "        print(str(a.value).upper() + \" protein expression:\")\n",
    "        p = NSCLC_Protein(str(a.value).upper())\n",
    "\n",
    "run_button.on_click(on_run_button_clicked)\n",
    "display(a, run_button)"
   ]
  },
  {
   "cell_type": "code",
   "execution_count": null,
   "metadata": {
    "scrolled": true
   },
   "outputs": [],
   "source": []
  },
  {
   "cell_type": "code",
   "execution_count": null,
   "metadata": {},
   "outputs": [],
   "source": []
  },
  {
   "cell_type": "code",
   "execution_count": null,
   "metadata": {},
   "outputs": [],
   "source": []
  }
 ],
 "metadata": {
  "kernelspec": {
   "display_name": "Python 3",
   "language": "python",
   "name": "python3"
  },
  "language_info": {
   "codemirror_mode": {
    "name": "ipython",
    "version": 3
   },
   "file_extension": ".py",
   "mimetype": "text/x-python",
   "name": "python",
   "nbconvert_exporter": "python",
   "pygments_lexer": "ipython3",
   "version": "3.7.8"
  }
 },
 "nbformat": 4,
 "nbformat_minor": 4
}
