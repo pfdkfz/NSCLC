{
 "cells": [
  {
   "cell_type": "code",
   "execution_count": 1,
   "metadata": {
    "scrolled": true
   },
   "outputs": [
    {
     "name": "stdout",
     "output_type": "stream",
     "text": [
      "Requirement already satisfied: voila in c:\\users\\p489i\\anaconda3\\lib\\site-packages (0.2.4)\n",
      "Requirement already satisfied: nbconvert<7,>=6.0.0 in c:\\users\\p489i\\anaconda3\\lib\\site-packages (from voila) (6.0.7)\n",
      "Requirement already satisfied: nbclient<0.6,>=0.4.0 in c:\\users\\p489i\\anaconda3\\lib\\site-packages (from voila) (0.5.1)\n",
      "Requirement already satisfied: jupyter-server<2.0.0,>=0.3.0 in c:\\users\\p489i\\anaconda3\\lib\\site-packages (from voila) (1.0.5)\n",
      "Requirement already satisfied: jupyter-client<7,>=6.1.3 in c:\\users\\p489i\\anaconda3\\lib\\site-packages (from voila) (6.1.7)\n",
      "Requirement already satisfied: jinja2>=2.4 in c:\\users\\p489i\\anaconda3\\lib\\site-packages (from nbconvert<7,>=6.0.0->voila) (2.11.2)\n",
      "Requirement already satisfied: jupyter-core in c:\\users\\p489i\\anaconda3\\lib\\site-packages (from nbconvert<7,>=6.0.0->voila) (4.6.3)\n",
      "Requirement already satisfied: mistune<2,>=0.8.1 in c:\\users\\p489i\\anaconda3\\lib\\site-packages (from nbconvert<7,>=6.0.0->voila) (0.8.4)\n",
      "Requirement already satisfied: pygments>=2.4.1 in c:\\users\\p489i\\anaconda3\\lib\\site-packages (from nbconvert<7,>=6.0.0->voila) (2.7.2)\n",
      "Requirement already satisfied: defusedxml in c:\\users\\p489i\\anaconda3\\lib\\site-packages (from nbconvert<7,>=6.0.0->voila) (0.6.0)\n",
      "Requirement already satisfied: pandocfilters>=1.4.1 in c:\\users\\p489i\\anaconda3\\lib\\site-packages (from nbconvert<7,>=6.0.0->voila) (1.4.2)\n",
      "Requirement already satisfied: bleach in c:\\users\\p489i\\anaconda3\\lib\\site-packages (from nbconvert<7,>=6.0.0->voila) (3.2.1)\n",
      "Requirement already satisfied: jupyterlab-pygments in c:\\users\\p489i\\anaconda3\\lib\\site-packages (from nbconvert<7,>=6.0.0->voila) (0.1.2)\n",
      "Requirement already satisfied: entrypoints>=0.2.2 in c:\\users\\p489i\\anaconda3\\lib\\site-packages (from nbconvert<7,>=6.0.0->voila) (0.3)\n",
      "Requirement already satisfied: traitlets>=4.2 in c:\\users\\p489i\\anaconda3\\lib\\site-packages (from nbconvert<7,>=6.0.0->voila) (5.0.5)\n",
      "Requirement already satisfied: nbformat>=4.4 in c:\\users\\p489i\\anaconda3\\lib\\site-packages (from nbconvert<7,>=6.0.0->voila) (5.0.8)\n",
      "Requirement already satisfied: testpath in c:\\users\\p489i\\anaconda3\\lib\\site-packages (from nbconvert<7,>=6.0.0->voila) (0.4.4)\n",
      "Requirement already satisfied: nest-asyncio in c:\\users\\p489i\\anaconda3\\lib\\site-packages (from nbclient<0.6,>=0.4.0->voila) (1.4.2)\n",
      "Requirement already satisfied: async-generator in c:\\users\\p489i\\anaconda3\\lib\\site-packages (from nbclient<0.6,>=0.4.0->voila) (1.10)\n",
      "Requirement already satisfied: pywin32>=1.0; sys_platform == \"win32\" in c:\\users\\p489i\\anaconda3\\lib\\site-packages (from jupyter-server<2.0.0,>=0.3.0->voila) (228)\n",
      "Requirement already satisfied: tornado>=5.0 in c:\\users\\p489i\\anaconda3\\lib\\site-packages (from jupyter-server<2.0.0,>=0.3.0->voila) (6.1)\n",
      "Requirement already satisfied: ipython-genutils in c:\\users\\p489i\\anaconda3\\lib\\site-packages (from jupyter-server<2.0.0,>=0.3.0->voila) (0.2.0)\n",
      "Requirement already satisfied: Send2Trash in c:\\users\\p489i\\anaconda3\\lib\\site-packages (from jupyter-server<2.0.0,>=0.3.0->voila) (1.5.0)\n",
      "Requirement already satisfied: terminado>=0.8.3 in c:\\users\\p489i\\anaconda3\\lib\\site-packages (from jupyter-server<2.0.0,>=0.3.0->voila) (0.9.1)\n",
      "Requirement already satisfied: prometheus-client in c:\\users\\p489i\\anaconda3\\lib\\site-packages (from jupyter-server<2.0.0,>=0.3.0->voila) (0.8.0)\n",
      "Requirement already satisfied: pyzmq>=17 in c:\\users\\p489i\\anaconda3\\lib\\site-packages (from jupyter-server<2.0.0,>=0.3.0->voila) (19.0.2)\n",
      "Requirement already satisfied: python-dateutil>=2.1 in c:\\users\\p489i\\anaconda3\\lib\\site-packages (from jupyter-client<7,>=6.1.3->voila) (2.8.1)\n",
      "Requirement already satisfied: MarkupSafe>=0.23 in c:\\users\\p489i\\anaconda3\\lib\\site-packages (from jinja2>=2.4->nbconvert<7,>=6.0.0->voila) (1.1.1)\n",
      "Requirement already satisfied: webencodings in c:\\users\\p489i\\anaconda3\\lib\\site-packages (from bleach->nbconvert<7,>=6.0.0->voila) (0.5.1)\n",
      "Requirement already satisfied: packaging in c:\\users\\p489i\\anaconda3\\lib\\site-packages (from bleach->nbconvert<7,>=6.0.0->voila) (20.4)\n",
      "Requirement already satisfied: six>=1.9.0 in c:\\users\\p489i\\anaconda3\\lib\\site-packages (from bleach->nbconvert<7,>=6.0.0->voila) (1.15.0)\n",
      "Requirement already satisfied: jsonschema!=2.5.0,>=2.4 in c:\\users\\p489i\\anaconda3\\lib\\site-packages (from nbformat>=4.4->nbconvert<7,>=6.0.0->voila) (3.2.0)\n",
      "Requirement already satisfied: pywinpty>=0.5; os_name == \"nt\" in c:\\users\\p489i\\anaconda3\\lib\\site-packages (from terminado>=0.8.3->jupyter-server<2.0.0,>=0.3.0->voila) (0.5.7)\n",
      "Requirement already satisfied: pyparsing>=2.0.2 in c:\\users\\p489i\\anaconda3\\lib\\site-packages (from packaging->bleach->nbconvert<7,>=6.0.0->voila) (2.4.7)\n",
      "Requirement already satisfied: pyrsistent>=0.14.0 in c:\\users\\p489i\\anaconda3\\lib\\site-packages (from jsonschema!=2.5.0,>=2.4->nbformat>=4.4->nbconvert<7,>=6.0.0->voila) (0.17.3)\n",
      "Requirement already satisfied: attrs>=17.4.0 in c:\\users\\p489i\\anaconda3\\lib\\site-packages (from jsonschema!=2.5.0,>=2.4->nbformat>=4.4->nbconvert<7,>=6.0.0->voila) (20.2.0)\n",
      "Requirement already satisfied: setuptools in c:\\users\\p489i\\anaconda3\\lib\\site-packages (from jsonschema!=2.5.0,>=2.4->nbformat>=4.4->nbconvert<7,>=6.0.0->voila) (49.6.0.post20201009)\n",
      "Requirement already satisfied: importlib-metadata; python_version < \"3.8\" in c:\\users\\p489i\\anaconda3\\lib\\site-packages (from jsonschema!=2.5.0,>=2.4->nbformat>=4.4->nbconvert<7,>=6.0.0->voila) (2.0.0)\n",
      "Requirement already satisfied: zipp>=0.5 in c:\\users\\p489i\\anaconda3\\lib\\site-packages (from importlib-metadata; python_version < \"3.8\"->jsonschema!=2.5.0,>=2.4->nbformat>=4.4->nbconvert<7,>=6.0.0->voila) (3.4.0)\n"
     ]
    },
    {
     "name": "stderr",
     "output_type": "stream",
     "text": [
      "Enabling: voila\n",
      "- Writing config: C:\\Users\\p489i\\Anaconda3\\etc\\jupyter\n",
      "    - Validating...\n",
      "      voila 0.2.4 ok\n"
     ]
    }
   ],
   "source": [
    "import matplotlib.widgets\n",
    "import pandas as pd\n",
    "import numpy as np\n",
    "import csv\n",
    "import seaborn as sns\n",
    "import matplotlib.pyplot as plt\n",
    "import requests\n",
    "import urllib.request\n",
    "from bs4 import BeautifulSoup\n",
    "import re\n",
    "import os\n",
    "import scipy.stats\n",
    "from IPython.display import display, clear_output\n",
    "import ipywidgets as widgets\n",
    "\n",
    "!pip install voila\n",
    "!jupyter serverextension enable voila --sys-prefix\n",
    "\n",
    "source = pd.read_csv(\"meta/protein_quant_current_normalized.csv\", low_memory=False)\n",
    "\n",
    "\n",
    "def get_the_file(gene):\n",
    "    \n",
    "    # downloads the RNAseq file from the Broad website\n",
    "\n",
    "    url = 'https://portals.broadinstitute.org/ccle/page?gene='+str(gene)\n",
    "    response = requests.get(url)\n",
    "    soup = BeautifulSoup(response.text, 'html.parser')\n",
    "    for link in soup.findAll('a', attrs={'href': re.compile(\"RNA\")}):\n",
    "        url2 = 'https://portals.broadinstitute.org' + link.get('href')\n",
    "    \n",
    "    myfile = requests.get(url2)\n",
    "    open(str(gene)+'.txt', 'wb').write(myfile.content)\n",
    "    \n",
    "\n",
    "def graphing(dataFrame, gene, parameter, colors):\n",
    "    plt.figure()\n",
    "    sns.set(rc={'figure.figsize':(10,10)})\n",
    "    # Plots the datapoints parameter vs. gene expression\n",
    "    a = sns.regplot(x=parameter, y=gene, data=dataFrame, color = colors)\n",
    "    a.set_title('Correlation between ' + gene + ' and ' + parameter)\n",
    "    display(a.figure)\n",
    "\n",
    "def pval(dataF, gene, corr, par):\n",
    "    if par == 'p':\n",
    "        x = dataF[corr]\n",
    "        y = dataF[gene]\n",
    "        return scipy.stats.pearsonr(x, y)[1]\n",
    "    elif par == 's':\n",
    "        x = dataF[corr]\n",
    "        y = dataF[gene]\n",
    "        return scipy.stats.spearmanr(x, y)[1]\n",
    "\n",
    "def NSCLC_expression(gene):\n",
    "    from scipy import stats\n",
    "    get_the_file(gene)\n",
    "    \n",
    "    #gene = str(file[:-4])\n",
    "    \n",
    "    # Extract NSCLC line names and put it in the list\n",
    "    \n",
    "    lines = open('meta/NSCLC_Panel.txt').read().splitlines()\n",
    "    NSCLC_Lines = []\n",
    "    for i in lines:\n",
    "        NSCLC_Lines.append(i)\n",
    "        \n",
    "    # Filters data by NSCLC line panel\n",
    "    \n",
    "    NSCLC_exp = {}\n",
    "    for d in csv.DictReader(open(gene +'.txt'), delimiter='\\t'):\n",
    "        for i in NSCLC_Lines:\n",
    "             NSCLC_exp[i] = d[i]\n",
    "   \n",
    "    #Remove _LUNG string from the name\n",
    "    \n",
    "    no_lung = {}\n",
    "    for x in NSCLC_exp.keys():\n",
    "        if x.endswith('NG') and NSCLC_exp[x] != '':\n",
    "            no_lung[x[:-5]] = float(NSCLC_exp[x])\n",
    "   \n",
    "    # Converts the dictionary to data frame\n",
    "    \n",
    "    df = pd.DataFrame(data=no_lung, index=[gene])\n",
    "    df = (df.T)\n",
    "    #print (df)\n",
    "    \n",
    "    # calculate the correlation between EC50 and gene expression\n",
    "    \n",
    "    ec50 = pd.read_csv('meta/NSCLC_EC50.txt', sep = '\\t', index_col=0)\n",
    "    df3 = pd.merge(df, ec50, left_index=True, right_index=True)\n",
    "    correlation = df3[gene].corr(df3[\"EC50\"], method ='pearson')\n",
    "    val = pval(df3, gene, \"EC50\", \"p\")\n",
    "   \n",
    "    \n",
    "    #adds correlation result to the dataframe\n",
    "    \n",
    "    row0 = pd.Series({gene:''},name='')\n",
    "    row1 = pd.Series({gene: correlation,},name='Correlation with EC50')\n",
    "    row2 = pd.Series({gene:val}, name=\"p-value Pearson\")\n",
    "    df = df.append(row0)\n",
    "    df = df.append(row1)\n",
    "    df = df.append(row2)\n",
    "    \n",
    "    #plot the relationship between gene expression and EC50\n",
    "    \n",
    "    \n",
    "    return display(df), graphing(df3, gene, \"EC50\", \"blue\")\n",
    "\n",
    "\n",
    "def NSCLC_Protein(gene):\n",
    "    lines = open('meta/NSCLC_Panelp.txt').read().splitlines()\n",
    "    NSCLC_Lines = []\n",
    "    for i in lines:\n",
    "        NSCLC_Lines.append(i)\n",
    "    \n",
    "    df = source\n",
    "    select_gene = df.loc[df['Gene_Symbol'] == gene]\n",
    "    select_NSCLC = select_gene[NSCLC_Lines]\n",
    "    #select_NSCLC = select_NSCLC.reset_index(drop=True)\n",
    "    select_NSCLC_transposed = select_NSCLC.T\n",
    "    select_NSCLC_transposed.columns = [str(gene)]\n",
    "    select_NSCLC_transposed = select_NSCLC_transposed.dropna()\n",
    "    #print(select_NSCLC_transposed)\n",
    "    \n",
    "    \n",
    "    ec50 = pd.read_csv('meta/NSCLC_EC50p.txt', sep = '\\t', index_col=0)\n",
    "    df_EC50_Gene = pd.merge(select_NSCLC_transposed, ec50, left_index=True, right_index=True)\n",
    "    df_EC50_Gene.dropna()\n",
    "    correlation = df_EC50_Gene[gene].corr(df_EC50_Gene[\"EC50\"], method ='pearson')\n",
    "    val = pval(df_EC50_Gene, gene, \"EC50\", \"p\")\n",
    "    \n",
    "    graphing(df_EC50_Gene, gene, \"EC50\", \"green\")\n",
    "    \n",
    "    row0 = pd.Series({gene:''},name='')\n",
    "    row1 = pd.Series({gene: correlation,},name='Correlation with EC50')\n",
    "    row2 = pd.Series({gene:val}, name=\"p-value Pearson\")\n",
    "    \n",
    "    df = select_NSCLC_transposed.append(row0)\n",
    "    df = df.append(row1)\n",
    "    df = df.append(row2)\n",
    "    \n",
    "    return display(df)"
   ]
  },
  {
   "cell_type": "code",
   "execution_count": 15,
   "metadata": {
    "scrolled": false
   },
   "outputs": [
    {
     "data": {
      "application/vnd.jupyter.widget-view+json": {
       "model_id": "35b5bc803c374f1a93e675e4acdcae3c",
       "version_major": 2,
       "version_minor": 0
      },
      "text/plain": [
       "Output()"
      ]
     },
     "metadata": {},
     "output_type": "display_data"
    },
    {
     "data": {
      "application/vnd.jupyter.widget-view+json": {
       "model_id": "72e6fe06e09e4dd7935c348258ebeee6",
       "version_major": 2,
       "version_minor": 0
      },
      "text/plain": [
       "Text(value='', description='Gene:', placeholder='Type a gene name')"
      ]
     },
     "metadata": {},
     "output_type": "display_data"
    },
    {
     "data": {
      "application/vnd.jupyter.widget-view+json": {
       "model_id": "99e6dc33a2e64bbc97081bf7b63b8d86",
       "version_major": 2,
       "version_minor": 0
      },
      "text/plain": [
       "Button(button_style='success', description='Run', icon='check', style=ButtonStyle(), tooltip='Click me')"
      ]
     },
     "metadata": {},
     "output_type": "display_data"
    }
   ],
   "source": [
    "a = widgets.Text(\n",
    "    value='',\n",
    "    placeholder='Type a gene name',\n",
    "    description='Gene:',\n",
    "    disabled=False\n",
    ")\n",
    "\n",
    "\n",
    "run_button = widgets.Button(\n",
    "    description='Run',\n",
    "    disabled=False,\n",
    "    button_style='success', # 'success', 'info', 'warning', 'danger' or ''\n",
    "    tooltip='Click me',\n",
    "    icon='check' # (FontAwesome names without the `fa-` prefix)\n",
    ")\n",
    "\n",
    "out = widgets.Output()\n",
    "display(out)\n",
    "\n",
    "def on_run_button_clicked(b):\n",
    "    with out:\n",
    "        clear_output()\n",
    "        print(str(a.value).upper() + \" expression:\")\n",
    "        #s =  NSCLC_expression(str(a.value).upper())\n",
    "        print(str(a.value).upper() + \" protein expression:\")\n",
    "        p = NSCLC_Protein(str(a.value).upper())\n",
    "\n",
    "run_button.on_click(on_run_button_clicked)\n",
    "display(a, run_button)"
   ]
  },
  {
   "cell_type": "code",
   "execution_count": null,
   "metadata": {
    "scrolled": true
   },
   "outputs": [],
   "source": []
  },
  {
   "cell_type": "code",
   "execution_count": null,
   "metadata": {},
   "outputs": [],
   "source": []
  },
  {
   "cell_type": "code",
   "execution_count": null,
   "metadata": {},
   "outputs": [],
   "source": []
  }
 ],
 "metadata": {
  "kernelspec": {
   "display_name": "Python 3",
   "language": "python",
   "name": "python3"
  },
  "language_info": {
   "codemirror_mode": {
    "name": "ipython",
    "version": 3
   },
   "file_extension": ".py",
   "mimetype": "text/x-python",
   "name": "python",
   "nbconvert_exporter": "python",
   "pygments_lexer": "ipython3",
   "version": "3.7.8"
  }
 },
 "nbformat": 4,
 "nbformat_minor": 4
}
